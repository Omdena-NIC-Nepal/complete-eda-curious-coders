{
 "cells": [
  {
   "cell_type": "markdown",
   "metadata": {},
   "source": [
    "# Climate Data Exploratory Data Analysis\n",
    "\n",
    "## Introduction\n",
    "This notebook contains an exploratory data analysis of climate data from 1900 to 2023. The dataset includes global temperatures, CO2 concentration, sea level rise, and Arctic ice area.\n",
    "\n",
    "Your task is to perform a comprehensive EDA following the requirements in the README.md file."
   ]
  },
  {
   "cell_type": "code",
   "execution_count": null,
   "metadata": {},
   "outputs": [],
   "source": [
    "# Import required libraries\n",
    "import pandas as pd\n",
    "import numpy as np\n",
    "import matplotlib.pyplot as plt\n",
    "import seaborn as sns\n",
    "import matplotlib.animation as animation\n",
    "\n",
    "# Set plot styling\n",
    "#plt.style.use('seaborn-whitegrid')\n",
    "sns.set_style('whitegrid')\n",
    "sns.set_palette('viridis')\n",
    "%matplotlib inline"
   ]
  },
  {
   "cell_type": "markdown",
   "metadata": {},
   "source": [
    "## 1. Data Preparation\n",
    "\n",
    "Load the climate data and perform necessary cleaning and aggregation."
   ]
  },
  {
   "cell_type": "code",
   "execution_count": null,
   "metadata": {},
   "outputs": [],
   "source": [
    "# Load the dataset\n",
    "df = pd.read_csv(\"data/Climate_Change_Indicators.csv\") # Place the correct path to the file you are reading here (Make sure to load using the relative path)\n",
    "\n",
    "# Display the first few rows of the dataset\n",
    "df.head()"
   ]
  },
  {
   "cell_type": "code",
   "execution_count": null,
   "metadata": {},
   "outputs": [],
   "source": [
    "# Check for missing values and basic information about the dataset\n",
    "print(\"Dataset Information:\")\n",
    "print(df.info())\n",
    "print(\"\\nMissing Values:\")\n",
    "print(df.isnull().sum())"
   ]
  },
  {
   "cell_type": "code",
   "execution_count": null,
   "metadata": {},
   "outputs": [],
   "source": [
    "# TODO: Aggregate data by year to create a 124-year time series\n",
    "# Your code here\n",
    "yearly_data = df.groupby('Year')[[\"Global Average Temperature (°C)\",\"CO2 Concentration (ppm)\", \"Sea Level Rise (mm)\", \"Arctic Ice Area (million km²)\"]].mean().reset_index()\n",
    "yearly_data.head()\n",
    "\n"
   ]
  },
  {
   "cell_type": "markdown",
   "metadata": {},
   "source": [
    "## 2. Univariate Analysis\n",
    "\n",
    "Analyze each climate variable independently."
   ]
  },
  {
   "cell_type": "code",
   "execution_count": null,
   "metadata": {},
   "outputs": [],
   "source": [
    "# TODO: Perform univariate analysis for each climate variable\n",
    "# Include descriptive statistics and appropriate visualizations\n",
    "# Your code here\n",
    "print(\"Descriptive Statistics:\")\n",
    "print(yearly_data.describe())\n",
    "print(\"\\nVisualizations:\")  # You can use line plots, histograms, or density plots\n",
    "plt.figure(figsize=(15, 10))    # Set the figure size\n",
    "plt.subplot(2, 2, 1)    # Create a 2x2 grid of subplots and select the first one            \n",
    "sns.lineplot(x='Year', y='Global Average Temperature (°C)', data=yearly_data)\n",
    "plt.title(\"Global Average Temperature (°C)\")    # Set the title of the subplot  \n",
    "plt.subplot(2, 2, 2)    # Select the second subplot\n",
    "sns.lineplot(x='Year', y='CO2 Concentration (ppm)', data=yearly_data)   # Create a line plot    \n",
    "plt.title(\"CO2 Concentration (ppm)\")    # Set the title of the subplot\n",
    "plt.subplot(2, 2, 3)    # Select the third subplot\n",
    "sns.lineplot(x='Year', y='Sea Level Rise (mm)', data=yearly_data)   # Create a line plot\n",
    "plt.title(\"Sea Level Rise (mm)\")    # Set the title of the subplot\n",
    "plt.subplot(2, 2, 4)    # Select the fourth subplot\n",
    "sns.lineplot(x='Year', y='Arctic Ice Area (million km²)', data=yearly_data)   # Create a line plot\n",
    "plt.title(\"Arctic Ice Area (million km²)\")    # Set the title of the subplot\n",
    "plt.tight_layout()    # Adjust the subplots to fit into the figure area\n",
    "plt.show()\n"
   ]
  },
  {
   "cell_type": "markdown",
   "metadata": {},
   "source": [
    "## 3. Bivariate Analysis\n",
    "\n",
    "Explore relationships between pairs of climate variables."
   ]
  },
  {
   "cell_type": "code",
   "execution_count": null,
   "metadata": {},
   "outputs": [],
   "source": [
    "# TODO: Perform bivariate analysis\n",
    "sns.pairplot(yearly_data, diag_kind='kde')\n",
    "plt.show()\n",
    "\n",
    "\n",
    "plt.figure(figsize=(8, 6))\n",
    "sns.heatmap(yearly_data.corr(), annot=True, cmap='coolwarm', fmt='.2f')\n",
    "plt.title(\"Correlation Heatmap\")\n",
    "plt.show()\n",
    "\n",
    "fig, axes = plt.subplots(2, 2, figsize=(12, 10))\n",
    "pairs = [('Global Average Temperature (°C)', 'CO2 Concentration (ppm)'),\n",
    "         ('Sea Level Rise (mm)', 'Arctic Ice Area (million km²)')]\n",
    "\n",
    "i, j = 0, 0\n",
    "for x, y in pairs:\n",
    "    sns.regplot(x=yearly_data[x], y=yearly_data[y], ax=axes[i, j])\n",
    "    axes[i, j].set_title(f'Scatter Plot: {x} vs {y}')\n",
    "    j += 1\n",
    "    if j > 1:\n",
    "        i += 1\n",
    "        j = 0\n",
    "plt.tight_layout()\n",
    "plt.show()\n"
   ]
  },
  {
   "cell_type": "markdown",
   "metadata": {},
   "source": [
    "## 4. Multivariate Analysis\n",
    "\n",
    "Investigate relationships among three or more variables."
   ]
  },
  {
   "cell_type": "code",
   "execution_count": null,
   "metadata": {},
   "outputs": [],
   "source": [
    "# TODO: Perform multivariate analysis\n",
    "import matplotlib.animation as animation\n",
    "\n",
    "\n",
    "### 1️⃣ 3D Scatter Plot ###\n",
    "fig = plt.figure(figsize=(10, 7))\n",
    "ax = fig.add_subplot(111, projection='3d')\n",
    "\n",
    "sc = ax.scatter(yearly_data['CO2 Concentration (ppm)'], \n",
    "                yearly_data['Sea Level Rise (mm)'], \n",
    "                yearly_data['Global Average Temperature (°C)'], \n",
    "                c=yearly_data['Year'], cmap='viridis')\n",
    "\n",
    "ax.set_xlabel('CO2 Concentration (ppm)')\n",
    "ax.set_ylabel('Sea Level Rise (mm)')\n",
    "ax.set_zlabel('Global Avg Temp (°C)')\n",
    "ax.set_title(\"3D Climate Data Analysis\")\n",
    "\n",
    "# Add colorbar\n",
    "cbar = plt.colorbar(sc)\n",
    "cbar.set_label('Year')\n",
    "\n",
    "plt.show()\n",
    "\n",
    "### 2️⃣ Pairplot to Explore Multivariate Relationships ###\n",
    "sns.pairplot(yearly_data, diag_kind='kde', corner=True)\n",
    "plt.suptitle(\"Pairplot of Climate Indicators\", y=1.02)\n",
    "plt.show()\n",
    "\n",
    "### 3️⃣ Animated Line Plot ###\n",
    "fig, ax = plt.subplots(figsize=(10, 6))\n",
    "\n",
    "def update(frame):\n",
    "    ax.clear()\n",
    "    ax.plot(yearly_data['Year'][:frame], yearly_data['CO2 Concentration (ppm)'][:frame], label='CO2 (ppm)', color='red')\n",
    "    ax.plot(yearly_data['Year'][:frame], yearly_data['Global Average Temperature (°C)'][:frame], label='Temp (°C)', color='blue')\n",
    "    ax.plot(yearly_data['Year'][:frame], yearly_data['Sea Level Rise (mm)'][:frame], label='Sea Level (mm)', color='green')\n",
    "    \n",
    "    ax.set_xlabel('Year')\n",
    "    ax.set_ylabel('Value')\n",
    "    ax.set_title('Climate Indicators Over Time')\n",
    "    ax.legend()\n",
    "    ax.set_xlim(yearly_data['Year'].min(), yearly_data['Year'].max())\n",
    "\n",
    "ani = animation.FuncAnimation(fig, update, frames=len(yearly_data), interval=100)\n",
    "\n",
    "plt.show()\n"
   ]
  },
  {
   "cell_type": "markdown",
   "metadata": {},
   "source": [
    "## 5. Conclusions and Insights\n",
    "\n",
    "Summarize your findings and discuss their implications.\n"
   ]
  },
  {
   "cell_type": "code",
   "execution_count": null,
   "metadata": {},
   "outputs": [],
   "source": [
    "# TODO: Write your conclusions here\n",
    "conclusions = '''\n",
    "1. Global temperatures, CO2 concentration, and sea levels have shown an increasing trend over time, while Arctic ice area has been decreasing.\n",
    "2. Strong correlations exist between CO2 levels and temperature rise, as well as between sea level rise and Arctic ice area reduction.\n",
    "3. Future studies could explore causal relationships and predictive modeling for climate indicators.\n",
    "'''\n",
    "print(conclusions)\n"
   ]
  }
 ],
 "metadata": {
  "kernelspec": {
   "display_name": "base",
   "language": "python",
   "name": "python3"
  },
  "language_info": {
   "codemirror_mode": {
    "name": "ipython",
    "version": 3
   },
   "file_extension": ".py",
   "mimetype": "text/x-python",
   "name": "python",
   "nbconvert_exporter": "python",
   "pygments_lexer": "ipython3",
   "version": "3.12.7"
  }
 },
 "nbformat": 4,
 "nbformat_minor": 4
}
